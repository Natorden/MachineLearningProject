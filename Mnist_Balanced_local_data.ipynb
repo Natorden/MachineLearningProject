{
  "nbformat": 4,
  "nbformat_minor": 0,
  "metadata": {
    "colab": {
      "provenance": [],
      "gpuType": "T4"
    },
    "kernelspec": {
      "name": "python3",
      "display_name": "Python 3"
    },
    "language_info": {
      "name": "python"
    },
    "accelerator": "GPU"
  },
  "cells": [
    {
      "cell_type": "code",
      "source": [
        "import sys\n",
        "import os\n",
        "import sklearn\n",
        "import numpy as np\n",
        "import pandas as pd\n",
        "import tensorflow as tf\n",
        "from tensorflow import keras\n",
        "from sklearn.datasets import fetch_openml\n",
        "from sklearn.preprocessing import StandardScaler\n",
        "from sklearn.model_selection import train_test_split\n",
        "\n",
        "# to make this notebook's output stable across runs\n",
        "np.random.seed(42)\n",
        "tf.random.set_seed(42)\n",
        "\n",
        "# To plot pretty figures\n",
        "%matplotlib inline\n",
        "import matplotlib.pyplot as plt\n",
        "\n",
        "# Ignore useless warnings (see SciPy issue #5998)\n",
        "import warnings\n",
        "warnings.filterwarnings(action=\"ignore\", message=\"^internal gelsd\")"
      ],
      "metadata": {
        "id": "v1u2MkISruSB"
      },
      "execution_count": null,
      "outputs": []
    },
    {
      "cell_type": "code",
      "execution_count": null,
      "metadata": {
        "id": "-wOEPDwTqbmT"
      },
      "outputs": [],
      "source": [
        "from pathlib import Path\n",
        "import pandas as pd\n",
        "import tarfile\n",
        "import urllib.request\n",
        "\n",
        "minst_balanced_train = pd.read_csv(\"/content/sample_data/emnist-balanced-train.csv\", sep=',', header=None)\n",
        "minst_balanced_test = pd.read_csv(\"/content/sample_data/emnist-balanced-test.csv\", sep=',', header=None)"
      ]
    },
    {
      "cell_type": "code",
      "source": [
        "X_train_full = minst_balanced_train.iloc[:,1:]\n",
        "Y_train_full = minst_balanced_train.iloc[:,0]\n",
        "X_test = minst_balanced_test.iloc[:,1:]\n",
        "Y_test = minst_balanced_test.iloc[:,0]"
      ],
      "metadata": {
        "id": "dXzl9vxsQTmx"
      },
      "execution_count": null,
      "outputs": []
    },
    {
      "cell_type": "code",
      "source": [
        "X_train_full.shape, Y_train_full.shape, X_test.shape, Y_test.shape"
      ],
      "metadata": {
        "colab": {
          "base_uri": "https://localhost:8080/"
        },
        "id": "GJIEK6hOP91W",
        "outputId": "b16ebc59-b827-42a3-9d34-0eab257a969a"
      },
      "execution_count": null,
      "outputs": [
        {
          "output_type": "execute_result",
          "data": {
            "text/plain": [
              "((112800, 784), (112800,), (18800, 784), (18800,))"
            ]
          },
          "metadata": {},
          "execution_count": 7
        }
      ]
    },
    {
      "cell_type": "code",
      "source": [
        "unique, counts = np.unique(Y_train, return_counts=True)\n",
        "proportions = counts/counts.sum()\n",
        "dict(zip(unique, proportions))"
      ],
      "metadata": {
        "colab": {
          "base_uri": "https://localhost:8080/"
        },
        "id": "mIqNi-32Q0kf",
        "outputId": "117fc50f-aeb7-45bd-f297-2095d4f759bd"
      },
      "execution_count": null,
      "outputs": [
        {
          "output_type": "execute_result",
          "data": {
            "text/plain": [
              "{0: 0.02127659574468085,\n",
              " 1: 0.02127659574468085,\n",
              " 2: 0.02127659574468085,\n",
              " 3: 0.02127659574468085,\n",
              " 4: 0.02127659574468085,\n",
              " 5: 0.02127659574468085,\n",
              " 6: 0.02127659574468085,\n",
              " 7: 0.02127659574468085,\n",
              " 8: 0.02127659574468085,\n",
              " 9: 0.02127659574468085,\n",
              " 10: 0.02127659574468085,\n",
              " 11: 0.02127659574468085,\n",
              " 12: 0.02127659574468085,\n",
              " 13: 0.02127659574468085,\n",
              " 14: 0.02127659574468085,\n",
              " 15: 0.02127659574468085,\n",
              " 16: 0.02127659574468085,\n",
              " 17: 0.02127659574468085,\n",
              " 18: 0.02127659574468085,\n",
              " 19: 0.02127659574468085,\n",
              " 20: 0.02127659574468085,\n",
              " 21: 0.02127659574468085,\n",
              " 22: 0.02127659574468085,\n",
              " 23: 0.02127659574468085,\n",
              " 24: 0.02127659574468085,\n",
              " 25: 0.02127659574468085,\n",
              " 26: 0.02127659574468085,\n",
              " 27: 0.02127659574468085,\n",
              " 28: 0.02127659574468085,\n",
              " 29: 0.02127659574468085,\n",
              " 30: 0.02127659574468085,\n",
              " 31: 0.02127659574468085,\n",
              " 32: 0.02127659574468085,\n",
              " 33: 0.02127659574468085,\n",
              " 34: 0.02127659574468085,\n",
              " 35: 0.02127659574468085,\n",
              " 36: 0.02127659574468085,\n",
              " 37: 0.02127659574468085,\n",
              " 38: 0.02127659574468085,\n",
              " 39: 0.02127659574468085,\n",
              " 40: 0.02127659574468085,\n",
              " 41: 0.02127659574468085,\n",
              " 42: 0.02127659574468085,\n",
              " 43: 0.02127659574468085,\n",
              " 44: 0.02127659574468085,\n",
              " 45: 0.02127659574468085,\n",
              " 46: 0.02127659574468085}"
            ]
          },
          "metadata": {},
          "execution_count": 10
        }
      ]
    },
    {
      "cell_type": "code",
      "source": [
        "X_valid, X_train = X_train_full[:9400] /255.,X_train_full[9400:] /255. #take 5000 for validation, :5000 colon before number means up to 5000, train with the remaining split. 5000: means from 5000 to the rest.\n",
        "Y_valid, Y_train =Y_train_full[:9400],Y_train_full[9400:]\n",
        "X_test = X_test / 255."
      ],
      "metadata": {
        "id": "T1GD4pZUiVqP"
      },
      "execution_count": null,
      "outputs": []
    },
    {
      "cell_type": "code",
      "source": [
        "X_valid.shape, X_train.shape, Y_valid.shape, Y_train.shape, X_test.shape\n"
      ],
      "metadata": {
        "colab": {
          "base_uri": "https://localhost:8080/"
        },
        "id": "lngFe_u1mKoP",
        "outputId": "e7b3cb48-6b32-4b61-9591-cf05bc7734ca"
      },
      "execution_count": null,
      "outputs": [
        {
          "output_type": "execute_result",
          "data": {
            "text/plain": [
              "((9400, 784), (103400, 784), (9400,), (103400,), (18800, 784))"
            ]
          },
          "metadata": {},
          "execution_count": 9
        }
      ]
    },
    {
      "cell_type": "code",
      "source": [
        "if \"google.colab\" in sys.modules:\n",
        "    %pip install -q -U keras_tuner"
      ],
      "metadata": {
        "id": "2IL8OoDpzUjS",
        "colab": {
          "base_uri": "https://localhost:8080/"
        },
        "outputId": "82568fef-c765-4373-b03a-9fb6cc72485b"
      },
      "execution_count": null,
      "outputs": [
        {
          "output_type": "stream",
          "name": "stdout",
          "text": [
            "\u001b[2K     \u001b[90m━━━━━━━━━━━━━━━━━━━━━━━━━━━━━━━━━━━━━━━\u001b[0m \u001b[32m128.0/128.0 kB\u001b[0m \u001b[31m3.6 MB/s\u001b[0m eta \u001b[36m0:00:00\u001b[0m\n",
            "\u001b[2K     \u001b[90m━━━━━━━━━━━━━━━━━━━━━━━━━━━━━━━━━━━━━━\u001b[0m \u001b[32m950.8/950.8 kB\u001b[0m \u001b[31m12.6 MB/s\u001b[0m eta \u001b[36m0:00:00\u001b[0m\n",
            "\u001b[?25h"
          ]
        }
      ]
    },
    {
      "cell_type": "code",
      "source": [
        "import keras_tuner as kt\n",
        "\n",
        "def build_model(hp):\n",
        "    n_hidden = hp.Int(\"n_hidden\", min_value=0, max_value=5, default=2)\n",
        "    n_neurons = hp.Int(\"n_neurons\", min_value = 16, max_value=256)\n",
        "    learning_rate = hp.Float(\"learning_rate\", min_value=1e-4, max_value=1e-2, sampling=\"log\")\n",
        "    optimizer = tf.keras.optimizers.SGD(learning_rate=learning_rate)\n",
        "    model = tf.keras.Sequential()\n",
        "#    model.add(tf.keras.layers.Flatten())\n",
        "    for _ in range(n_hidden):\n",
        "        model.add(tf.keras.layers.Dense(n_neurons, activation=\"relu\"))\n",
        "    model.add(tf.keras.layers.Dense(47, activation=\"softmax\"))\n",
        "    model.compile(loss=\"sparse_categorical_crossentropy\", optimizer=optimizer, metrics=[\"accuracy\"])\n",
        "    return model"
      ],
      "metadata": {
        "id": "DQh6WrwvzdAK",
        "colab": {
          "base_uri": "https://localhost:8080/"
        },
        "outputId": "c396204c-82a4-4169-a5be-ae44f8aa9259"
      },
      "execution_count": null,
      "outputs": [
        {
          "output_type": "stream",
          "name": "stdout",
          "text": [
            "Using TensorFlow backend\n"
          ]
        }
      ]
    },
    {
      "cell_type": "code",
      "source": [
        "random_search_tuner = kt.RandomSearch(\n",
        "    build_model, objective=\"val_accuracy\", max_trials=6, overwrite=True,\n",
        "    directory=\"my_mist\", project_name=\"my_rnd_search\", seed=42)\n",
        "random_search_tuner.search(X_train, Y_train, epochs=42,\n",
        "                           validation_data=(X_valid, Y_valid))"
      ],
      "metadata": {
        "colab": {
          "base_uri": "https://localhost:8080/"
        },
        "id": "IW-FbrAIXMbQ",
        "outputId": "f36a0757-7cf4-49bd-8ff8-11f606ec56ea"
      },
      "execution_count": null,
      "outputs": [
        {
          "output_type": "stream",
          "name": "stdout",
          "text": [
            "Trial 6 Complete [00h 07m 24s]\n",
            "val_accuracy: 0.5835106372833252\n",
            "\n",
            "Best val_accuracy So Far: 0.8078723549842834\n",
            "Total elapsed time: 00h 48m 22s\n"
          ]
        }
      ]
    },
    {
      "cell_type": "code",
      "source": [
        "history = model.fit(X_train, Y_train, epochs=42,\n",
        "                    validation_data=(X_valid, Y_valid))\n"
      ],
      "metadata": {
        "colab": {
          "base_uri": "https://localhost:8080/",
          "height": 193
        },
        "id": "dkYe2cB_OCp8",
        "outputId": "a9cb0f82-3f7a-4b0c-8ff5-24f5e8e35480"
      },
      "execution_count": null,
      "outputs": [
        {
          "output_type": "error",
          "ename": "NameError",
          "evalue": "ignored",
          "traceback": [
            "\u001b[0;31m---------------------------------------------------------------------------\u001b[0m",
            "\u001b[0;31mNameError\u001b[0m                                 Traceback (most recent call last)",
            "\u001b[0;32m<ipython-input-34-252b91f6bc34>\u001b[0m in \u001b[0;36m<cell line: 1>\u001b[0;34m()\u001b[0m\n\u001b[0;32m----> 1\u001b[0;31m history = model.fit(X_train, Y_train, epochs=42,\n\u001b[0m\u001b[1;32m      2\u001b[0m                     validation_data=(X_valid, Y_valid))\n",
            "\u001b[0;31mNameError\u001b[0m: name 'model' is not defined"
          ]
        }
      ]
    },
    {
      "cell_type": "code",
      "source": [
        "pd.DataFrame(history.random_search_tuner).plot(figsize=(8, 5))\n",
        "plt.grid(True)\n",
        "plt.gca().set_ylim(0, 1)\n",
        "plt.show()"
      ],
      "metadata": {
        "colab": {
          "base_uri": "https://localhost:8080/",
          "height": 227
        },
        "id": "pLhsk6vGMrZS",
        "outputId": "c6e86a30-c9fd-4d2e-a6ca-d5378ca7fbe3"
      },
      "execution_count": null,
      "outputs": [
        {
          "output_type": "error",
          "ename": "NameError",
          "evalue": "ignored",
          "traceback": [
            "\u001b[0;31m---------------------------------------------------------------------------\u001b[0m",
            "\u001b[0;31mNameError\u001b[0m                                 Traceback (most recent call last)",
            "\u001b[0;32m<ipython-input-28-e27284b07530>\u001b[0m in \u001b[0;36m<cell line: 1>\u001b[0;34m()\u001b[0m\n\u001b[0;32m----> 1\u001b[0;31m \u001b[0mpd\u001b[0m\u001b[0;34m.\u001b[0m\u001b[0mDataFrame\u001b[0m\u001b[0;34m(\u001b[0m\u001b[0mhistory\u001b[0m\u001b[0;34m.\u001b[0m\u001b[0mrandom_search_tuner\u001b[0m\u001b[0;34m)\u001b[0m\u001b[0;34m.\u001b[0m\u001b[0mplot\u001b[0m\u001b[0;34m(\u001b[0m\u001b[0mfigsize\u001b[0m\u001b[0;34m=\u001b[0m\u001b[0;34m(\u001b[0m\u001b[0;36m8\u001b[0m\u001b[0;34m,\u001b[0m \u001b[0;36m5\u001b[0m\u001b[0;34m)\u001b[0m\u001b[0;34m)\u001b[0m\u001b[0;34m\u001b[0m\u001b[0;34m\u001b[0m\u001b[0m\n\u001b[0m\u001b[1;32m      2\u001b[0m \u001b[0mplt\u001b[0m\u001b[0;34m.\u001b[0m\u001b[0mgrid\u001b[0m\u001b[0;34m(\u001b[0m\u001b[0;32mTrue\u001b[0m\u001b[0;34m)\u001b[0m\u001b[0;34m\u001b[0m\u001b[0;34m\u001b[0m\u001b[0m\n\u001b[1;32m      3\u001b[0m \u001b[0mplt\u001b[0m\u001b[0;34m.\u001b[0m\u001b[0mgca\u001b[0m\u001b[0;34m(\u001b[0m\u001b[0;34m)\u001b[0m\u001b[0;34m.\u001b[0m\u001b[0mset_ylim\u001b[0m\u001b[0;34m(\u001b[0m\u001b[0;36m0\u001b[0m\u001b[0;34m,\u001b[0m \u001b[0;36m1\u001b[0m\u001b[0;34m)\u001b[0m\u001b[0;34m\u001b[0m\u001b[0;34m\u001b[0m\u001b[0m\n\u001b[1;32m      4\u001b[0m \u001b[0mplt\u001b[0m\u001b[0;34m.\u001b[0m\u001b[0mshow\u001b[0m\u001b[0;34m(\u001b[0m\u001b[0;34m)\u001b[0m\u001b[0;34m\u001b[0m\u001b[0;34m\u001b[0m\u001b[0m\n",
            "\u001b[0;31mNameError\u001b[0m: name 'history' is not defined"
          ]
        }
      ]
    },
    {
      "cell_type": "code",
      "source": [
        "best_trial = random_search_tuner.oracle.get_best_trials(num_trials=1)[0]\n",
        "best_trial.summary()"
      ],
      "metadata": {
        "colab": {
          "base_uri": "https://localhost:8080/"
        },
        "id": "XRzZ30u710s9",
        "outputId": "466f36a0-804f-484d-c0d9-023fd567155a"
      },
      "execution_count": null,
      "outputs": [
        {
          "output_type": "stream",
          "name": "stdout",
          "text": [
            "Trial 4 summary\n",
            "Hyperparameters:\n",
            "n_hidden: 5\n",
            "n_neurons: 37\n",
            "learning_rate: 0.008547485565344062\n",
            "Score: 0.8078723549842834\n"
          ]
        }
      ]
    },
    {
      "cell_type": "code",
      "source": [
        "best_trial.metrics.get_last_value(\"val_accuracy\")"
      ],
      "metadata": {
        "colab": {
          "base_uri": "https://localhost:8080/"
        },
        "id": "Dq7cm6-010lw",
        "outputId": "0df6f946-3a4c-4a0d-a45f-3b47305f8050"
      },
      "execution_count": null,
      "outputs": [
        {
          "output_type": "execute_result",
          "data": {
            "text/plain": [
              "0.8078723549842834"
            ]
          },
          "metadata": {},
          "execution_count": 24
        }
      ]
    },
    {
      "cell_type": "code",
      "source": [
        "best_model = random_search_tuner.get_best_models(num_models=1)[0]\n",
        "test_loss, test_accuracy = best_model.evaluate(X_test, Y_test)"
      ],
      "metadata": {
        "colab": {
          "base_uri": "https://localhost:8080/"
        },
        "id": "FBIuqvst10bj",
        "outputId": "368a3ac3-b1c3-4a14-fdcd-70db3e5ebec4"
      },
      "execution_count": null,
      "outputs": [
        {
          "output_type": "stream",
          "name": "stderr",
          "text": [
            "WARNING:tensorflow:Detecting that an object or model or tf.train.Checkpoint is being deleted with unrestored values. See the following logs for the specific values in question. To silence these warnings, use `status.expect_partial()`. See https://www.tensorflow.org/api_docs/python/tf/train/Checkpoint#restorefor details about the status object returned by the restore function.\n",
            "WARNING:tensorflow:Value in checkpoint could not be found in the restored object: (root).optimizer._variables.1\n",
            "WARNING:tensorflow:Value in checkpoint could not be found in the restored object: (root).optimizer._variables.2\n",
            "WARNING:tensorflow:Value in checkpoint could not be found in the restored object: (root).optimizer._variables.3\n",
            "WARNING:tensorflow:Value in checkpoint could not be found in the restored object: (root).optimizer._variables.4\n",
            "WARNING:tensorflow:Value in checkpoint could not be found in the restored object: (root).optimizer._variables.5\n",
            "WARNING:tensorflow:Value in checkpoint could not be found in the restored object: (root).optimizer._variables.6\n",
            "WARNING:tensorflow:Value in checkpoint could not be found in the restored object: (root).optimizer._variables.7\n",
            "WARNING:tensorflow:Value in checkpoint could not be found in the restored object: (root).optimizer._variables.8\n"
          ]
        },
        {
          "output_type": "stream",
          "name": "stdout",
          "text": [
            "588/588 [==============================] - 2s 3ms/step - loss: 0.6316 - accuracy: 0.7980\n"
          ]
        }
      ]
    }
  ]
}